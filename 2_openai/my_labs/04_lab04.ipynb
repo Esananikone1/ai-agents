{
 "cells": [
  {
   "cell_type": "markdown",
   "id": "a6aef691",
   "metadata": {},
   "source": [
    "# Deep Research"
   ]
  },
  {
   "cell_type": "code",
   "execution_count": 1,
   "id": "08e726a1",
   "metadata": {},
   "outputs": [],
   "source": [
    "from agents import Agent, WebSearchTool, trace, Runner, gen_trace_id, function_tool\n",
    "from agents.model_settings import ModelSettings\n",
    "from pydantic import BaseModel, Field\n",
    "from dotenv import load_dotenv\n",
    "import asyncio\n",
    "import sendgrid\n",
    "import os\n",
    "from sendgrid.helpers.mail import Mail, Email, To, Content\n",
    "from typing import Dict\n",
    "from IPython.display import display, Markdown"
   ]
  },
  {
   "cell_type": "code",
   "execution_count": 2,
   "id": "765803eb",
   "metadata": {},
   "outputs": [
    {
     "data": {
      "text/plain": [
       "True"
      ]
     },
     "execution_count": 2,
     "metadata": {},
     "output_type": "execute_result"
    }
   ],
   "source": [
    "# Load the environment variables\n",
    "load_dotenv(override=True)"
   ]
  },
  {
   "cell_type": "markdown",
   "id": "94d7cb5c",
   "metadata": {},
   "source": [
    "## OpenAI Hosted Tools\n",
    "\n",
    "OpenAI Agents SDK includes the following hosted tools:\n",
    "\n",
    "The `WebSearchTool` lets an agent search the web.  \n",
    "The `FileSearchTool` allows retrieving information from your OpenAI Vector Stores.  \n",
    "The `ComputerTool` allows automating computer use tasks like taking screenshots and clicking.\n",
    "\n",
    "### Important note - API charge of WebSearchTool\n",
    "\n",
    "This is costing me 2.5 cents per call for OpenAI WebSearchTool. That can add up to $2-$3 for the next 2 labs. We'll use free and low cost Search tools with other platforms, so feel free to skip running this if the cost is a concern. Also student Christian W. pointed out that OpenAI can sometimes charge for multiple searches for a single call, so it could sometimes cost more than 2.5 cents per call.\n",
    "\n",
    "Costs are here: https://platform.openai.com/docs/pricing#web-search"
   ]
  },
  {
   "cell_type": "code",
   "execution_count": 4,
   "id": "a0d43163",
   "metadata": {},
   "outputs": [],
   "source": [
    "# Define the instructions for the research agent\n",
    "INSTRUCTIONS = \"You are a research assistant. Given a search term, you search the web for that term and produce a concise summary of the results. The summary must 2-3 paragraphs and less than 300 words. Capture the main points. Write succintly, no need to have complete sentences or good grammar. This will be consumed by someone synthesizing a report, so it's vital you capture the essence and ignore any fluff. Do not include any additional commentary other than the summary itself.\"\n",
    "\n",
    "# Create the search_agent Agent. Should use tools and model_settings\n",
    "search_agent = Agent(\n",
    "    name=\"Search agent\",\n",
    "    instructions=INSTRUCTIONS,\n",
    "    tools=[WebSearchTool(search_context_size=\"low\")],\n",
    "    model=\"gpt-4o-mini\",\n",
    "    # This is how you tell the agent that it is required to run the tool. It is mandatory.\n",
    "    model_settings=ModelSettings(tool_choice=\"required\")\n",
    ")"
   ]
  },
  {
   "cell_type": "code",
   "execution_count": 6,
   "id": "1bc0556e",
   "metadata": {},
   "outputs": [
    {
     "data": {
      "text/markdown": [
       "In 2025, several AI agent frameworks have emerged, each offering unique capabilities:\n",
       "\n",
       "- **Agent Lightning**: A flexible framework enabling reinforcement learning-based training of large language models (LLMs) for any AI agent. It decouples agent execution from training, allowing seamless integration with existing agents developed through various methods. ([arxiv.org](https://arxiv.org/abs/2508.03680?utm_source=openai))\n",
       "\n",
       "- **Polymorphic Combinatorial Framework (PCF)**: Utilizes LLMs and mathematical frameworks to design adaptive AI agents for complex, dynamic environments. PCF enables real-time parameter reconfiguration through combinatorial spaces, supporting scalable and ethical AI applications. ([arxiv.org](https://arxiv.org/abs/2508.01581?utm_source=openai))\n",
       "\n",
       "- **Cognitive Kernel-Pro**: An open-source, multi-module agent framework democratizing the development and evaluation of advanced AI agents. It focuses on curating high-quality training data and enhancing agent robustness and performance. ([arxiv.org](https://arxiv.org/abs/2508.00414?utm_source=openai))\n",
       "\n",
       "- **AutoAgent**: A fully automated, zero-code framework for LLM agents, enabling users to create and deploy agents through natural language alone. It serves as a versatile multi-agent system for general AI assistants. ([arxiv.org](https://arxiv.org/abs/2502.05957?utm_source=openai))\n",
       "\n",
       "- **CrewAI**: Introduces collaborative multi-agent teams with role-based agent definitions, built-in memory, and communication between agents. It integrates with LangChain and LLMs, facilitating complex, multi-step processes across agents. ([linkedin.com](https://www.linkedin.com/pulse/top-10-frameworks-building-ai-agents-2025-rachel-grace-okrqc?utm_source=openai))\n",
       "\n",
       "- **LlamaIndex**: Connects LLMs with custom data sources through intelligent indexing and retrieval systems, supporting document loaders for various formats and indexing strategies. ([linkedin.com](https://www.linkedin.com/pulse/top-10-frameworks-building-ai-agents-2025-rachel-grace-okrqc?utm_source=openai))\n",
       "\n",
       "- **Microsoft Semantic Kernel**: A lightweight framework bridging traditional development with AI capabilities, emphasizing seamless integration into enterprise applications. It supports multiple languages and orchestrates multi-step AI workflows. ([linkedin.com](https://www.linkedin.com/pulse/top-5-frameworks-building-ai-agents-2025-sahil-malhotra-wmisc?utm_source=openai))\n",
       "\n",
       "- **Amazon Bedrock AgentCore**: A platform designed to simplify the development and deployment of advanced AI agents, offering modular services supporting the full production lifecycle, including scalable serverless deployment and context management. ([techradar.com](https://www.techradar.com/pro/aws-looks-to-super-charge-ai-agents-with-amazon-bedrock-agentcore?utm_source=openai))\n",
       "\n",
       "- **Model Context Protocol (MCP)**: An open standard introduced by Anthropic to standardize AI systems' integration and data sharing with external tools and data sources, adopted by major AI providers like OpenAI and Google DeepMind. ([en.wikipedia.org](https://en.wikipedia.org/wiki/Model_Context_Protocol?utm_source=openai))\n",
       "\n",
       "These frameworks reflect the rapid evolution in AI agent development, emphasizing flexibility, collaboration, and seamless integration across diverse applications. "
      ],
      "text/plain": [
       "<IPython.core.display.Markdown object>"
      ]
     },
     "metadata": {},
     "output_type": "display_data"
    }
   ],
   "source": [
    "# Define a messsage for the search_agent\n",
    "message = \"Latest AI Agent frameworks in 2025\"\n",
    "\n",
    "with trace(\"Search\"):\n",
    "    result = await Runner.run(search_agent, message)\n",
    "\n",
    "display(Markdown(result.final_output))"
   ]
  },
  {
   "cell_type": "markdown",
   "id": "e0384c6e",
   "metadata": {},
   "source": [
    "#### We will now use Structured Outputs, and include a description of the fields"
   ]
  },
  {
   "cell_type": "code",
   "execution_count": 9,
   "id": "bdcd60b0",
   "metadata": {},
   "outputs": [],
   "source": [
    "HOW_MANY_SEARCHES = 3\n",
    "\n",
    "# Instructions for the planner_agent\n",
    "INSTRUCTIONS = f\"You are a helpful research assistant. Given a query, come up with a set of web searches to perform to best answer the query. Output {HOW_MANY_SEARCHES} terms to query for.\"\n",
    "\n",
    "# Define a strcutured output class for a websearch item\n",
    "# By annotating the fields, we ensure that the information is provided. This is provided to the model so it knows why it's populating these fields\n",
    "# Chain of thought prompting\n",
    "# The reason is placed before the query so that the next token predicted by the model is more consistent with the reason provided\n",
    "class WebSearchItem(BaseModel):\n",
    "    reason: str\n",
    "    \"Your reasoning for why this search is important to the query.\"\n",
    "\n",
    "    query: str\n",
    "    \"The search term to use for the web search.\"\n",
    "\n",
    "class WebSearchPlan(BaseModel):\n",
    "    searches: list[WebSearchItem]\n",
    "    \"\"\"A list of web searches to perform to best answer the query.\"\"\"\n",
    "\n",
    "# Create the planner_agent\n",
    "planner_agent = Agent(\n",
    "    name=\"PlannerAgent\",\n",
    "    instructions=INSTRUCTIONS,\n",
    "    model=\"gpt-4o-mini\",\n",
    "    output_type=WebSearchPlan\n",
    ")"
   ]
  },
  {
   "cell_type": "code",
   "execution_count": 12,
   "id": "15cf73bc",
   "metadata": {},
   "outputs": [
    {
     "name": "stdout",
     "output_type": "stream",
     "text": [
      "searches=[WebSearchItem(reason='To find recent developments and frameworks in AI agents for 2025.', query='latest AI agent frameworks 2025'), WebSearchItem(reason='To discover industry reports or articles that outline the advancements in AI agent technology for 2025.', query='AI agent technology advancements 2025'), WebSearchItem(reason='To identify popular or emerging AI agents and their frameworks used in various applications in 2025.', query='emerging AI agent frameworks applications 2025')]\n"
     ]
    }
   ],
   "source": [
    "# Prompt for the planner_agent\n",
    "message = \"Latest AI Agent frameworks in 2025\"\n",
    "\n",
    "with trace(\"Search\"):\n",
    "    result = await Runner.run(planner_agent, message)\n",
    "    print(result.final_output)"
   ]
  },
  {
   "cell_type": "code",
   "execution_count": 28,
   "id": "b604d0b0",
   "metadata": {},
   "outputs": [],
   "source": [
    "@function_tool\n",
    "def send_email(subject: str, html_body: str) -> Dict[str, str]:\n",
    "    \"\"\" Send out an email with the given subject and HTML body \"\"\"\n",
    "    sg = sendgrid.SendGridAPIClient(api_key=os.environ.get('SENDGRID_API_KEY'))\n",
    "    from_email = Email(\"twostrokes210business@gmail.com\") # Change this to your verified email\n",
    "    to_email = To(\"twostrokes210business@gmail.com\") # Change this to your email\n",
    "    content = Content(\"text/html\", html_body)\n",
    "    mail = Mail(from_email, to_email, subject, content).get()\n",
    "    response = sg.client.mail.send.post(request_body=mail)\n",
    "    return {\"status\": \"success\"}"
   ]
  },
  {
   "cell_type": "code",
   "execution_count": 29,
   "id": "5ff57894",
   "metadata": {},
   "outputs": [],
   "source": [
    "model_type = \"gpt-4o-mini\"\n",
    "\n",
    "# Prompt for the email agent\n",
    "EMAIL_PROMPT = \"\"\"You are able to send a nicely formatted HTML email based on a detailed report.\n",
    "You will be provided with a detailed report. You should use your tool to send one email, providing the \n",
    "report converted into clean, well presented HTML with an appropriate subject line.\"\"\"\n",
    "\n",
    "# Create the email_agent with the send_email as a tool\n",
    "email_agent = Agent(\n",
    "    name=\"Email Agent\",\n",
    "    instructions=EMAIL_PROMPT,\n",
    "    tools=[send_email],\n",
    "    model=model_type\n",
    ")"
   ]
  },
  {
   "cell_type": "code",
   "execution_count": 30,
   "id": "d974df57",
   "metadata": {},
   "outputs": [],
   "source": [
    "REPORT_INSTRUCTIONS = (\n",
    "    \"You are a senior researcher tasked with writing a cohesive report for a research query. \"\n",
    "    \"You will be provided with the original query, and some initial research done by a research assistant.\\n\"\n",
    "    \"You should first come up with an outline for the report that describes the structure and \"\n",
    "    \"flow of the report. Then, generate the report and return that as your final output.\\n\"\n",
    "    \"The final output should be in markdown format, and it should be lengthy and detailed. Aim \"\n",
    "    \"for 5-10 pages of content, at least 1000 words.\"\n",
    ")\n",
    "\n",
    "# Create a structured output for Report Data. Fields: short_summary, markdown_report, follow_up_questions. Provide description under\n",
    "class ReportData(BaseModel):\n",
    "    short_summary: str\n",
    "    \"\"\"A short 2-3 sentence summary of the findings.\"\"\"\n",
    "\n",
    "    markdown_report: str\n",
    "    \"\"\"The final report\"\"\"\n",
    "\n",
    "    follow_up_questions: list[str]\n",
    "    \"\"\"Suggested topics to research further\"\"\"\n",
    "\n",
    "# Create the writer_agent that outputs a ReportData object\n",
    "writer_agent = Agent(\n",
    "    name=\"WriterAgent\",\n",
    "    instructions=REPORT_INSTRUCTIONS,\n",
    "    model=model_type,\n",
    "    output_type=ReportData\n",
    ")\n"
   ]
  },
  {
   "cell_type": "markdown",
   "id": "c02650a3",
   "metadata": {},
   "source": [
    "#### The next 3 functions will plan and execute the search, using planner_agent and search_agent"
   ]
  },
  {
   "cell_type": "code",
   "execution_count": 31,
   "id": "f0902519",
   "metadata": {},
   "outputs": [],
   "source": [
    "# This function calls the planner_agent (In charge of coming up with a list of things to search)\n",
    "async def plan_searches(query: str):\n",
    "    \"\"\" Use the planner_agent to plan which searches to run for the query \"\"\"\n",
    "    print(\"Planning searches...\")\n",
    "    # Run the agent\n",
    "    plan_search_result = await Runner.run(planner_agent, f\"Query: {query}\")\n",
    "    print(f\"Will perform {len(plan_search_result.final_output.searches)} searches\")\n",
    "    return plan_search_result.final_output\n",
    "\n",
    "# This function will use the search agent to run a web search\n",
    "async def search(item: WebSearchItem):\n",
    "    \"\"\" Use the search agent to run a web search for each item in the search plan \"\"\"\n",
    "    input = f\"Search term: {item.query}\\nReason for searching: {item.reason}\"\n",
    "    # Run the agent\n",
    "    result = await Runner.run(search_agent, input)\n",
    "    return result.final_output\n",
    "\n",
    "# This function will perform the actual searches that are returned in the WebSearchPlan list\n",
    "async def perform_searches(search_plan: WebSearchPlan):\n",
    "    \"\"\" Call search() for each item in the search plan \"\"\"\n",
    "    print(\"Searching...\")\n",
    "    num_completed = 0\n",
    "    # Run tasks in parallel\n",
    "    tasks = [asyncio.create_task(search(item)) for item in search_plan.searches]\n",
    "    results = await asyncio.gather(*tasks)\n",
    "    print(\"Finished searching\")\n",
    "    return results"
   ]
  },
  {
   "cell_type": "markdown",
   "id": "96424726",
   "metadata": {},
   "source": [
    "#### The next 2 functions write a report and email it"
   ]
  },
  {
   "cell_type": "code",
   "execution_count": 32,
   "id": "271c6df6",
   "metadata": {},
   "outputs": [],
   "source": [
    "async def write_report(query: str, search_results: list[str]):\n",
    "    \"\"\" Use the writer agent to write a report based on the search results \"\"\"\n",
    "    print(\"Thinking about report\")\n",
    "    input = f\"Original query: {query}\\nSummarized search results: {search_results}\"\n",
    "    # Run the agent\n",
    "    result = await Runner.run(writer_agent, input)\n",
    "    print(\"Finished writing report\")\n",
    "    return result.final_output\n",
    "\n",
    "async def send_email(report: ReportData):\n",
    "    \"\"\" Use the email agent to send an email with the report \"\"\"\n",
    "    print(\"Writing email...\")\n",
    "    # Run the agent\n",
    "    result = await Runner.run(email_agent, report.markdown_report)\n",
    "    print(\"Email sent\")\n",
    "    return result"
   ]
  },
  {
   "cell_type": "markdown",
   "id": "1899ced2",
   "metadata": {},
   "source": [
    "## Showtime!"
   ]
  },
  {
   "cell_type": "code",
   "execution_count": 33,
   "id": "b276f1b3",
   "metadata": {},
   "outputs": [
    {
     "name": "stdout",
     "output_type": "stream",
     "text": [
      "Starting research...\n",
      "Planning searches...\n",
      "Will perform 3 searches\n",
      "Searching...\n",
      "Finished searching\n",
      "Thinking about report\n",
      "Finished writing report\n",
      "Writing email...\n",
      "Email sent\n"
     ]
    }
   ],
   "source": [
    "query = \"Latest AI Agent framewors in 2025\"\n",
    "\n",
    "with trace(\"Research trace\"):\n",
    "    print(\"Starting research...\")\n",
    "    # First call the search plan in order to create a lsit of search items\n",
    "    search_plan = await plan_searches(query)\n",
    "\n",
    "    # Call the perform_searches to perform the searches\n",
    "    search_results = await perform_searches(search_plan)\n",
    "\n",
    "    # Call to create the report based on the search results\n",
    "    report = await write_report(query, search_results)\n",
    "\n",
    "    # Send the email\n",
    "    await send_email(report)\n"
   ]
  }
 ],
 "metadata": {
  "kernelspec": {
   "display_name": "agents",
   "language": "python",
   "name": "python3"
  },
  "language_info": {
   "codemirror_mode": {
    "name": "ipython",
    "version": 3
   },
   "file_extension": ".py",
   "mimetype": "text/x-python",
   "name": "python",
   "nbconvert_exporter": "python",
   "pygments_lexer": "ipython3",
   "version": "3.12.11"
  }
 },
 "nbformat": 4,
 "nbformat_minor": 5
}
