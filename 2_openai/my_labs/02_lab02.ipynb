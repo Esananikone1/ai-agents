{
 "cells": [
  {
   "cell_type": "markdown",
   "id": "3ee1f488",
   "metadata": {},
   "source": [
    "# Week 2 Day 2\n",
    "We're going to build a simple Agent system for generating cold outreach emails:\n",
    "    1. Agent workflow'\n",
    "    2. Use of tools to call functions\n",
    "    3. Agent collaboration via Tools and Handoffs"
   ]
  },
  {
   "cell_type": "code",
   "execution_count": 9,
   "id": "f6d63d8b",
   "metadata": {},
   "outputs": [],
   "source": [
    "# Necessary Imports\n",
    "from dotenv import load_dotenv\n",
    "from agents import Agent, Runner, trace, function_tool\n",
    "from openai.types.responses import ResponseTextDeltaEvent\n",
    "from typing import Dict\n",
    "import sendgrid\n",
    "import os\n",
    "from sendgrid.helpers.mail import Mail, Email, To, Content\n",
    "import asyncio"
   ]
  },
  {
   "cell_type": "code",
   "execution_count": 3,
   "id": "4ef3611d",
   "metadata": {},
   "outputs": [
    {
     "data": {
      "text/plain": [
       "True"
      ]
     },
     "execution_count": 3,
     "metadata": {},
     "output_type": "execute_result"
    }
   ],
   "source": [
    "# Load environment\n",
    "load_dotenv(override=True)"
   ]
  },
  {
   "cell_type": "markdown",
   "id": "5feb6c2f",
   "metadata": {},
   "source": [
    "# Step 1: Agent WorkFlow"
   ]
  },
  {
   "cell_type": "code",
   "execution_count": 4,
   "id": "a84ce823",
   "metadata": {},
   "outputs": [],
   "source": [
    "# Create Agent Instructions\n",
    "instructions1 = \"You are a sales agent working for ComplAI, \\\n",
    "a company that provides a SaaS tool for ensuring SOC2 compliance and preparing for audits, powered by AI. \\\n",
    "You write professional, serious cold emails.\"\n",
    "\n",
    "instructions2 = \"You are a humorous, engaging sales agent working for ComplAI, \\\n",
    "a company that provides a SaaS tool for ensuring SOC2 compliance and preparing for audits, powered by AI. \\\n",
    "You write witty, engaging cold emails that are likely to get a response.\"\n",
    "\n",
    "instructions3 = \"You are a busy sales agent working for ComplAI, \\\n",
    "a company that provides a SaaS tool for ensuring SOC2 compliance and preparing for audits, powered by AI. \\\n",
    "You write concise, to the point cold emails.\""
   ]
  },
  {
   "cell_type": "code",
   "execution_count": 5,
   "id": "13345ecd",
   "metadata": {},
   "outputs": [],
   "source": [
    "# Create Agents for each instruction\n",
    "\n",
    "model_name=\"gpt-4o-mini\"\n",
    "\n",
    "# Professional Sales Agent\n",
    "sales_agent1 = Agent(\n",
    "    name=\"Professional Sales Agent\",\n",
    "    instructions=instructions1,\n",
    "    model=model_name\n",
    ")\n",
    "\n",
    "# Engaging Sales Agent\n",
    "sales_agent2 = Agent(\n",
    "    \"Engaging Sales Agent\",\n",
    "    instructions=instructions2,\n",
    "    model=model_name\n",
    ")\n",
    "\n",
    "# Busy Sales Agent\n",
    "sales_agent3 = Agent(\n",
    "    name=\"Busy Sales Agent\",\n",
    "    instructions=instructions3,\n",
    "    model=model_name\n",
    ")\n"
   ]
  },
  {
   "cell_type": "code",
   "execution_count": null,
   "id": "bfa909ff",
   "metadata": {},
   "outputs": [
    {
     "name": "stdout",
     "output_type": "stream",
     "text": [
      "Subject: Streamline Your SOC 2 Compliance with AI-Powered Solutions\n",
      "\n",
      "Dear [Recipient's Name],\n",
      "\n",
      "I hope this message finds you well. My name is [Your Name], and I represent ComplAI, where we specialize in providing an innovative SaaS solution specifically designed to streamline SOC 2 compliance efforts. \n",
      "\n",
      "Navigating the complexities of compliance can be daunting, and that's where our AI-powered platform comes in. We automate many of the tedious tasks involved in preparing for audits, enabling your team to focus on what truly matters—growing your business.\n",
      "\n",
      "Here are just a few ways ComplAI can transform your compliance process:\n",
      "\n",
      "- **Efficiency:** Our AI-driven tool simplifies documentation and evidence collection, saving valuable time during your audit prep.\n",
      "- **Accuracy:** Reduce the risk of errors with real-time compliance checks and detailed insights.\n",
      "- **Scalability:** Whether you're a growing startup or an established enterprise, our solution adapts to your organization's needs.\n",
      "\n",
      "I would welcome the opportunity to discuss how ComplAI can support your compliance journey and help you meet regulatory requirements more effectively. Are you available for a brief call next week?\n",
      "\n",
      "Thank you for your time. I look forward to the possibility of working together.\n",
      "\n",
      "Best regards,\n",
      "\n",
      "[Your Name]  \n",
      "[Your Job Title]  \n",
      "ComplAI  \n",
      "[Your Phone Number]  \n",
      "[Your Email Address]  \n",
      "[Website URL]  "
     ]
    }
   ],
   "source": [
    "# Will use streaming API (.run_streamed())\n",
    "# Run the instructions but call Runner.run_streamed(agent, instructions) in order to stream back results\n",
    "result = Runner.run_streamed(sales_agent1, input=\"Write a cold sales email.\")\n",
    "\n",
    "# Runner.run_streamed(agent, instructions) returns a coroutine object so we have to iterate through it \n",
    "# and call async in the for loop\n",
    "async for event in result.stream_events():\n",
    "    # Need to check that actual text was returned that we can print\n",
    "    if event.type == \"raw_response_event\" and isinstance(event.data, ResponseTextDeltaEvent):\n",
    "        print(event.data.delta, end=\"\", flush=True)"
   ]
  },
  {
   "cell_type": "code",
   "execution_count": 14,
   "id": "819f2c63",
   "metadata": {},
   "outputs": [
    {
     "name": "stdout",
     "output_type": "stream",
     "text": [
      "Subject: Streamline Your SOC2 Compliance Process with ComplAI\n",
      "\n",
      "Hi [Recipient's Name],\n",
      "\n",
      "I hope this message finds you well. My name is [Your Name], and I’m reaching out to introduce you to ComplAI, an innovative SaaS solution that simplifies the process of achieving and maintaining SOC2 compliance.\n",
      "\n",
      "In today’s regulatory landscape, ensuring compliance can be both time-consuming and complex. ComplAI leverages advanced AI technology to automate key processes, helping organizations like yours streamline compliance efforts, reduce audit preparation time, and minimize risks associated with non-compliance.\n",
      "\n",
      "Key benefits of our platform include:\n",
      "\n",
      "- **Automated Documentation**: Easily generate and manage the required documentation for audits.\n",
      "- **Real-Time Monitoring**: Continuously track and assess compliance readiness with proactive alerts.\n",
      "- **Expert Support**: Access to seasoned compliance professionals who understand your unique needs.\n",
      "\n",
      "We would love the opportunity to discuss how ComplAI can support [Your Company's Name] in maintaining robust SOC2 compliance and prepare you for future audits with ease.\n",
      "\n",
      "Would you be available for a brief call next week to explore this further?\n",
      "\n",
      "Thank you for your time, and I look forward to the possibility of working together.\n",
      "\n",
      "Best regards,\n",
      "\n",
      "[Your Name]  \n",
      "[Your Position]  \n",
      "ComplAI  \n",
      "[Your Email]  \n",
      "[Your Phone Number]  \n",
      "[Company Website]  \n",
      "\n",
      "\n",
      "Subject: Is Your SOC2 Compliance a Game of Hide and Seek? 🎭\n",
      "\n",
      "Hey [Recipient's Name],\n",
      "\n",
      "Hope you're doing well and your coffee’s strong enough to tackle those compliance documents!\n",
      "\n",
      "I wanted to drop you a quick note because I hear SOC2 compliance can sometimes feel like a game of hide and seek—lots of hiding, not a lot of seeking! 🤔\n",
      "\n",
      "At ComplAI, we’ve created a SaaS tool that not only simplifies the hunt for compliance but also makes it a breeze to prepare for audits. Think of us as your trusty flashlight in the dark compliance woods—well, minus the spooky campfire stories! 🔦🔥\n",
      "\n",
      "Our AI-powered platform can help you:\n",
      "- Streamline your compliance processes (because who has time for tedious paperwork?)\n",
      "- Prepare for audits with the confidence of a cat walking on a tightrope (okay, maybe a little more confident!)\n",
      "- Sleep better at night knowing you’ve got compliance covered (no more counting sheep!)\n",
      "\n",
      "Let’s schedule a quick 15-minute chat to see how we can help you make compliance less of a chore and more of a walk in the park—minus the ducks trying to steal your sandwich! 🦆🥪\n",
      "\n",
      "Looking forward to hearing from you!\n",
      "\n",
      "Cheers,  \n",
      "[Your Name]  \n",
      "[Your Position]  \n",
      "ComplAI  \n",
      "[Your Contact Information]  \n",
      "\n",
      "P.S. I promise to bring the jokes if you bring the questions!\n",
      "\n",
      "\n",
      "Subject: Simplify Your SOC 2 Compliance Process\n",
      "\n",
      "Hi [Recipient's Name],\n",
      "\n",
      "I hope this message finds you well! \n",
      "\n",
      "I'm [Your Name] from ComplAI, where we help companies like yours streamline their SOC 2 compliance efforts. Our AI-driven SaaS tool simplifies the entire process, from preparation to audit.\n",
      "\n",
      "Would you be open to a quick call this week to see how we can make compliance easy for you?\n",
      "\n",
      "Looking forward to your thoughts!\n",
      "\n",
      "Best,  \n",
      "[Your Name]  \n",
      "[Your Position]  \n",
      "ComplAI  \n",
      "[Your Phone Number]  \n",
      "[Your LinkedIn Profile] (if applicable)\n",
      "\n",
      "\n"
     ]
    }
   ],
   "source": [
    "# Going to use Asyncio for parallel agent calliing\n",
    "\n",
    "message = \"Send a cold sales email.\"\n",
    "\n",
    "# Use trace to run agents asynchronously\n",
    "with trace(\"Parallel Cold Emails\"):\n",
    "    # Will return a collection of results\n",
    "    results = await asyncio.gather(\n",
    "        Runner.run(sales_agent1, message),\n",
    "        Runner.run(sales_agent2, message),\n",
    "        Runner.run(sales_agent3, message)\n",
    "    )\n",
    "\n",
    "# Store outputs\n",
    "outputs = [result.final_output for result in results]\n",
    "\n",
    "# Iterate through outputs and print\n",
    "for output in outputs:\n",
    "    print(output + \"\\n\\n\")"
   ]
  },
  {
   "cell_type": "code",
   "execution_count": 15,
   "id": "eb5769d9",
   "metadata": {},
   "outputs": [],
   "source": [
    "# Create an agent that picks the best cold email\n",
    "sales_picker = Agent(\n",
    "    name=\"sales_picker\",\n",
    "    instructions=\"You pick the best cold sales email from the given options. Imagine you are a customer and pick the one you are most likely to respond to. Do not give an explanation; reply with the selected email only.\",\n",
    "    model=model_name\n",
    ")"
   ]
  },
  {
   "cell_type": "code",
   "execution_count": 16,
   "id": "e0c97cd5",
   "metadata": {},
   "outputs": [
    {
     "name": "stdout",
     "output_type": "stream",
     "text": [
      "Best sales email:\n",
      "Subject: Stop Stressing Over SOC2 – We’ve Got the AI Magic Wand! 🪄\n",
      "\n",
      "Hey [First Name],\n",
      "\n",
      "Ever feel like SOC2 compliance is the ultimate game of hide and seek, except the only thing that’s hiding is your sanity? 😅\n",
      "\n",
      "At ComplAI, we believe compliance shouldn’t feel like you’re navigating a maze blindfolded. Our AI-powered tool is here to transform your auditing nightmares into seamless dreams. Think of us as your trusty sidekick—like Robin to your Batman, but with less spandex and more streamlined processes. 🦸‍♂️\n",
      "\n",
      "Imagine:\n",
      "- Instant document retrieval\n",
      "- Automated risk assessments\n",
      "- A stress-free audit process where your only job is to sip coffee and look impressive!\n",
      "\n",
      "Let’s chat about how we can turn your compliance chaos into clarity (and maybe some chuckles along the way).\n",
      "\n",
      "How does next week sound? I promise to bring the laughs, you bring the questions!\n",
      "\n",
      "Cheers,  \n",
      "[Your Name]  \n",
      "[Your Job Title]  \n",
      "ComplAI  \n",
      "[Your Phone Number]  \n",
      "[Your LinkedIn Profile]  \n",
      "\n",
      "P.S. I hear “Hey, let’s simplify SOC2 compliance” is the new “Hey, let’s binge-watch our favorite series.” Just sayin’. 🍿\n"
     ]
    }
   ],
   "source": [
    "# Define the message for Runner.run()\n",
    "message = \"Write a cold sales email\"\n",
    "\n",
    "# Run the agents asynchronously\n",
    "with trace(\"Selection from sales people\"):\n",
    "    # Returns a list of coroutines\n",
    "    results = await asyncio.gather(\n",
    "        Runner.run(sales_agent1, message),\n",
    "        Runner.run(sales_agent2, message),\n",
    "        Runner.run(sales_agent3, message)\n",
    "    )\n",
    "\n",
    "# Gather the results into one list \n",
    "outputs = [result.final_output for result in results]\n",
    "\n",
    "# Join the email strings from the 'outputs' list\n",
    "emails = \"Cold Sales Emails:\\n\\n\".join(outputs)\n",
    "\n",
    "# Run the sales picker to pick the best email\n",
    "best_email = await Runner.run(sales_picker, emails)\n",
    "\n",
    "# print out the best email\n",
    "print(f\"Best sales email:\\n{best_email.final_output}\")"
   ]
  },
  {
   "cell_type": "markdown",
   "id": "9d39a10d",
   "metadata": {},
   "source": [
    "# Step 2 and 3: Tools and Agent interactions\n",
    "- Will now add tools to the mix\n",
    "\n",
    "- Wrap function with the @function_tool decorator"
   ]
  },
  {
   "cell_type": "code",
   "execution_count": 20,
   "id": "096cf42b",
   "metadata": {},
   "outputs": [],
   "source": [
    "# Define a function as a tool to send an email using SendGrid\n",
    "\n",
    "@function_tool\n",
    "def send_email(body: str):\n",
    "    \"\"\" Send out an email with the given body to all sales prospects. \"\"\"\n",
    "    sg = sendgrid.SendGridAPIClient(api_key=os.environ.get('SENDGRID_API_KEY'))\n",
    "    # Set the from email\n",
    "    from_email = Email(\"twostrokes210business@gmail.com\")\n",
    "    # Set the to email\n",
    "    to_email = Email(\"twostrokes210business@gmail.com\")\n",
    "    # Set the email body content\n",
    "    content = Content(\"text/plain\", body)\n",
    "    mail = Mail(from_email, to_email, \"Sales Email\", content).get()\n",
    "    response = sg.client.mail.send.post(request_body=mail)\n",
    "    return{\"status\": \"success\"}\n"
   ]
  },
  {
   "cell_type": "markdown",
   "id": "0404c145",
   "metadata": {},
   "source": [
    "### This has automatically been converted into a tool, with the JSON boilerplate created"
   ]
  },
  {
   "cell_type": "code",
   "execution_count": 21,
   "id": "e8fd5593",
   "metadata": {},
   "outputs": [
    {
     "data": {
      "text/plain": [
       "FunctionTool(name='send_email', description='Send out an email with the given body to all sales prospects.', params_json_schema={'properties': {'body': {'title': 'Body', 'type': 'string'}}, 'required': ['body'], 'title': 'send_email_args', 'type': 'object', 'additionalProperties': False}, on_invoke_tool=<function function_tool.<locals>._create_function_tool.<locals>._on_invoke_tool at 0x0000015B8AB874C0>, strict_json_schema=True, is_enabled=True)"
      ]
     },
     "execution_count": 21,
     "metadata": {},
     "output_type": "execute_result"
    }
   ],
   "source": [
    "send_email"
   ]
  },
  {
   "cell_type": "markdown",
   "id": "613ae482",
   "metadata": {},
   "source": [
    "### And you can also convert an Agent into a tool"
   ]
  },
  {
   "cell_type": "markdown",
   "id": "627447db",
   "metadata": {},
   "source": []
  }
 ],
 "metadata": {
  "kernelspec": {
   "display_name": "agents",
   "language": "python",
   "name": "python3"
  },
  "language_info": {
   "codemirror_mode": {
    "name": "ipython",
    "version": 3
   },
   "file_extension": ".py",
   "mimetype": "text/x-python",
   "name": "python",
   "nbconvert_exporter": "python",
   "pygments_lexer": "ipython3",
   "version": "3.12.11"
  }
 },
 "nbformat": 4,
 "nbformat_minor": 5
}
