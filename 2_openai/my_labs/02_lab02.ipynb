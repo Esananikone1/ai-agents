{
 "cells": [
  {
   "cell_type": "markdown",
   "id": "3ee1f488",
   "metadata": {},
   "source": [
    "# Week 2 Day 2\n",
    "We're going to build a simple Agent system for generating cold outreach emails:\n",
    "    1. Agent workflow'\n",
    "    2. Use of tools to call functions\n",
    "    3. Agent collaboration via Tools and Handoffs"
   ]
  },
  {
   "cell_type": "code",
   "execution_count": 24,
   "id": "f6d63d8b",
   "metadata": {},
   "outputs": [],
   "source": [
    "# Necessary Imports\n",
    "from dotenv import load_dotenv\n",
    "from agents import Agent, Runner, trace, function_tool\n",
    "from openai.types.responses import ResponseTextDeltaEvent\n",
    "from typing import Dict\n",
    "import sendgrid\n",
    "import os\n",
    "from sendgrid.helpers.mail import Mail, Email, To, Content\n",
    "import asyncio"
   ]
  },
  {
   "cell_type": "code",
   "execution_count": 25,
   "id": "4ef3611d",
   "metadata": {},
   "outputs": [
    {
     "data": {
      "text/plain": [
       "True"
      ]
     },
     "execution_count": 25,
     "metadata": {},
     "output_type": "execute_result"
    }
   ],
   "source": [
    "# Load environment\n",
    "load_dotenv(override=True)"
   ]
  },
  {
   "cell_type": "markdown",
   "id": "5feb6c2f",
   "metadata": {},
   "source": [
    "# Step 1: Agent WorkFlow"
   ]
  },
  {
   "cell_type": "code",
   "execution_count": 26,
   "id": "a84ce823",
   "metadata": {},
   "outputs": [],
   "source": [
    "# Create Agent Instructions\n",
    "instructions1 = \"You are a sales agent working for ComplAI, \\\n",
    "a company that provides a SaaS tool for ensuring SOC2 compliance and preparing for audits, powered by AI. \\\n",
    "You write professional, serious cold emails.\"\n",
    "\n",
    "instructions2 = \"You are a humorous, engaging sales agent working for ComplAI, \\\n",
    "a company that provides a SaaS tool for ensuring SOC2 compliance and preparing for audits, powered by AI. \\\n",
    "You write witty, engaging cold emails that are likely to get a response.\"\n",
    "\n",
    "instructions3 = \"You are a busy sales agent working for ComplAI, \\\n",
    "a company that provides a SaaS tool for ensuring SOC2 compliance and preparing for audits, powered by AI. \\\n",
    "You write concise, to the point cold emails.\""
   ]
  },
  {
   "cell_type": "code",
   "execution_count": 27,
   "id": "13345ecd",
   "metadata": {},
   "outputs": [],
   "source": [
    "# Create Agents for each instruction\n",
    "\n",
    "model_name=\"gpt-4o-mini\"\n",
    "\n",
    "# Professional Sales Agent\n",
    "sales_agent1 = Agent(\n",
    "    name=\"Professional Sales Agent\",\n",
    "    instructions=instructions1,\n",
    "    model=model_name\n",
    ")\n",
    "\n",
    "# Engaging Sales Agent\n",
    "sales_agent2 = Agent(\n",
    "    \"Engaging Sales Agent\",\n",
    "    instructions=instructions2,\n",
    "    model=model_name\n",
    ")\n",
    "\n",
    "# Busy Sales Agent\n",
    "sales_agent3 = Agent(\n",
    "    name=\"Busy Sales Agent\",\n",
    "    instructions=instructions3,\n",
    "    model=model_name\n",
    ")\n"
   ]
  },
  {
   "cell_type": "code",
   "execution_count": 28,
   "id": "bfa909ff",
   "metadata": {},
   "outputs": [
    {
     "name": "stdout",
     "output_type": "stream",
     "text": [
      "Subject: Streamline Your SOC 2 Compliance Process with AI\n",
      "\n",
      "Hi [Recipient's Name],\n",
      "\n",
      "I hope this message finds you well. My name is [Your Name], and I’m reaching out from ComplAI, where we specialize in simplifying the SOC 2 compliance process through our advanced AI-driven platform.\n",
      "\n",
      "As you know, achieving and maintaining SOC 2 compliance can be complex and time-consuming. Our tool automates key aspects of the compliance lifecycle, offering tailored guidance that not only enhances your readiness for audits but also minimizes the risk of non-compliance. \n",
      "\n",
      "Here are a few ways ComplAI can add value to your organization:\n",
      "\n",
      "- **Efficiency**: Reduce manual effort through automated workflows that streamline compliance tasks.\n",
      "- **Real-time Monitoring**: Get insights into your compliance posture with continuous monitoring and reporting.\n",
      "- **Expert Guidance**: Access a library of best practices and recommendations designed to simplify the auditing process.\n",
      "\n",
      "I would love the opportunity to discuss how ComplAI can support your team in meeting compliance requirements more effectively. Would you be available for a brief call next week?\n",
      "\n",
      "Thank you for considering this opportunity.\n",
      "\n",
      "Best regards,\n",
      "\n",
      "[Your Name]  \n",
      "[Your Position]  \n",
      "ComplAI  \n",
      "[Your Phone Number]  \n",
      "[Your Email Address]  \n",
      "[Company Website]  "
     ]
    }
   ],
   "source": [
    "# Will use streaming API (.run_streamed())\n",
    "# Run the instructions but call Runner.run_streamed(agent, instructions) in order to stream back results\n",
    "result = Runner.run_streamed(sales_agent1, input=\"Write a cold sales email.\")\n",
    "\n",
    "# Runner.run_streamed(agent, instructions) returns a coroutine object so we have to iterate through it \n",
    "# and call async in the for loop\n",
    "async for event in result.stream_events():\n",
    "    # Need to check that actual text was returned that we can print\n",
    "    if event.type == \"raw_response_event\" and isinstance(event.data, ResponseTextDeltaEvent):\n",
    "        print(event.data.delta, end=\"\", flush=True)"
   ]
  },
  {
   "cell_type": "code",
   "execution_count": 29,
   "id": "819f2c63",
   "metadata": {},
   "outputs": [
    {
     "name": "stdout",
     "output_type": "stream",
     "text": [
      "Subject: Simplify Your SOC 2 Compliance with ComplAI\n",
      "\n",
      "Dear [Recipient's Name],\n",
      "\n",
      "I hope this message finds you well. My name is [Your Name], and I’m with ComplAI, where we specialize in helping organizations like yours streamline the SOC 2 compliance process.\n",
      "\n",
      "Navigating compliance requirements can be complex and time-consuming, often diverting valuable resources from your core business activities. Our AI-powered SaaS tool is designed to simplify this process, offering features that ensure your organization meets all necessary compliance standards while preparing you for audits with ease.\n",
      "\n",
      "With ComplAI, you can expect:\n",
      "\n",
      "- Automated documentation and reporting\n",
      "- Real-time compliance monitoring\n",
      "- Customizable workflows tailored to your specific needs\n",
      "\n",
      "I would love the opportunity to discuss how ComplAI can support your compliance efforts and enhance your operational efficiency. Are you available for a brief call next week?\n",
      "\n",
      "Thank you for your time, and I look forward to the possibility of working together.\n",
      "\n",
      "Best regards,\n",
      "\n",
      "[Your Name]  \n",
      "[Your Position]  \n",
      "ComplAI  \n",
      "[Your Phone Number]  \n",
      "[Your Email Address]  \n",
      "\n",
      "\n",
      "Subject: Your Audit Nightmare’s New Best Friend 🎉\n",
      "\n",
      "Hi [Recipient's Name],\n",
      "\n",
      "Are you tired of losing sleep over SOC2 compliance? Worried your audit prep looks more like a horror movie script? 😱 Well, I've got some great news: ComplAI is here to turn those sleepless nights into peaceful dreams!\n",
      "\n",
      "Our AI-powered tool takes the hair-pulling and stress out of compliance. Forget about the endless spreadsheets and sleepless nights! With ComplAI, your audit prep will be smoother than a freshly buttered slide. \n",
      "\n",
      "Here's what we bring to the table:\n",
      "- **Automated compliance tracking:** So you can finally stop doing the compliance cha-cha every quarter!\n",
      "- **Real-time insights:** Because knowing where you stand is better than a fortune cookie's guesswork.\n",
      "- **Audit prep made easy:** Think of us as your compliance fairy godmother, minus the magic wand (we're working on that).\n",
      "\n",
      "Let’s chat about how ComplAI can take your audit prep from “Oh no!” to “Oh wow!” Reply to this email, and we’ll schedule a demo that’s less tedious than watching paint dry. \n",
      "\n",
      "Looking forward to turning your compliance woes into compliance whos!\n",
      "\n",
      "Cheers,  \n",
      "[Your Name]  \n",
      "[Your Title]  \n",
      "ComplAI  \n",
      "[Your Phone Number]  \n",
      "[Your Website]  \n",
      "\n",
      "P.S. Don’t worry, no spreadsheets were harmed in the making of this email! 🥳\n",
      "\n",
      "\n",
      "Subject: Simplify SOC 2 Compliance with AI\n",
      "\n",
      "Hi [Recipient's Name],\n",
      "\n",
      "Are you feeling overwhelmed by SOC 2 compliance requirements? At ComplAI, our AI-powered SaaS tool streamlines the process, helping teams like yours prepare for audits more efficiently while reducing manual effort.\n",
      "\n",
      "Let’s set up a quick call to discuss how we can help you achieve compliance with ease.\n",
      "\n",
      "Best,  \n",
      "[Your Name]  \n",
      "[Your Job Title]  \n",
      "ComplAI  \n",
      "[Your Contact Information]  \n",
      "\n",
      "\n"
     ]
    }
   ],
   "source": [
    "# Going to use Asyncio for parallel agent calliing\n",
    "\n",
    "message = \"Send a cold sales email.\"\n",
    "\n",
    "# Use trace to run agents asynchronously\n",
    "with trace(\"Parallel Cold Emails\"):\n",
    "    # Will return a collection of results\n",
    "    results = await asyncio.gather(\n",
    "        Runner.run(sales_agent1, message),\n",
    "        Runner.run(sales_agent2, message),\n",
    "        Runner.run(sales_agent3, message)\n",
    "    )\n",
    "\n",
    "# Store outputs\n",
    "outputs = [result.final_output for result in results]\n",
    "\n",
    "# Iterate through outputs and print\n",
    "for output in outputs:\n",
    "    print(output + \"\\n\\n\")"
   ]
  },
  {
   "cell_type": "code",
   "execution_count": 30,
   "id": "eb5769d9",
   "metadata": {},
   "outputs": [],
   "source": [
    "# Create an agent that picks the best cold email\n",
    "sales_picker = Agent(\n",
    "    name=\"sales_picker\",\n",
    "    instructions=\"You pick the best cold sales email from the given options. Imagine you are a customer and pick the one you are most likely to respond to. Do not give an explanation; reply with the selected email only.\",\n",
    "    model=model_name\n",
    ")"
   ]
  },
  {
   "cell_type": "code",
   "execution_count": 31,
   "id": "e0c97cd5",
   "metadata": {},
   "outputs": [
    {
     "name": "stdout",
     "output_type": "stream",
     "text": [
      "Best sales email:\n",
      "Subject: Don’t Let SOC2 Compliance Keep You Up at Night!\n",
      "\n",
      "Hey [Recipient's Name],\n",
      "\n",
      "Ever tried to juggle flaming swords while riding a unicycle? Now imagine doing that while trying to get SOC2 compliant. Sounds a bit crazy, right? 🤹‍♂️🔥\n",
      "\n",
      "I’m reaching out from ComplAI — your soon-to-be favorite SaaS tool for mastering SOC2 compliance and making audits feel like a walk in the park (without any flaming swords!).\n",
      "\n",
      "Our AI-driven platform takes the headache out of compliance, giving you back precious hours in your day (just think of all the coffee breaks you can enjoy!). ☕\n",
      "\n",
      "Curious to see how we can turn that compliance process from chaos to calm? Let’s chat! I promise not to juggle anything on our call — unless you’re into that kind of thing.\n",
      "\n",
      "Cheers,  \n",
      "[Your Name]  \n",
      "[Your Position] at ComplAI  \n",
      "P.S. Did I mention we also have a killer sense of humor? But seriously, compliance doesn’t have to be boring!\n"
     ]
    }
   ],
   "source": [
    "# Define the message for Runner.run()\n",
    "message = \"Write a cold sales email\"\n",
    "\n",
    "# Run the agents asynchronously\n",
    "with trace(\"Selection from sales people\"):\n",
    "    # Returns a list of coroutines\n",
    "    results = await asyncio.gather(\n",
    "        Runner.run(sales_agent1, message),\n",
    "        Runner.run(sales_agent2, message),\n",
    "        Runner.run(sales_agent3, message)\n",
    "    )\n",
    "\n",
    "# Gather the results into one list \n",
    "outputs = [result.final_output for result in results]\n",
    "\n",
    "# Join the email strings from the 'outputs' list\n",
    "emails = \"Cold Sales Emails:\\n\\n\".join(outputs)\n",
    "\n",
    "# Run the sales picker to pick the best email\n",
    "best_email = await Runner.run(sales_picker, emails)\n",
    "\n",
    "# print out the best email\n",
    "print(f\"Best sales email:\\n{best_email.final_output}\")"
   ]
  },
  {
   "cell_type": "markdown",
   "id": "9d39a10d",
   "metadata": {},
   "source": [
    "# Step 2 and 3: Tools and Agent interactions\n",
    "- Will now add tools to the mix\n",
    "\n",
    "- Wrap function with the @function_tool decorator"
   ]
  },
  {
   "cell_type": "code",
   "execution_count": 39,
   "id": "096cf42b",
   "metadata": {},
   "outputs": [],
   "source": [
    "# Define a function as a tool to send an email using SendGrid\n",
    "\n",
    "@function_tool\n",
    "def send_email(body: str):\n",
    "    \"\"\" Send out an email with the given body to all sales prospects. \"\"\"\n",
    "    sg = sendgrid.SendGridAPIClient(api_key=os.environ.get('SENDGRID_API_KEY'))\n",
    "    # Set the from email\n",
    "    from_email = Email(\"twostrokes210business@gmail.com\")\n",
    "    # Set the to email\n",
    "    to_email = To(\"twostrokes210business@gmail.com\")\n",
    "    # Set the email body content\n",
    "    content = Content(\"text/plain\", body)\n",
    "    mail = Mail(from_email, to_email, \"Sales Email\", content).get()\n",
    "    response = sg.client.mail.send.post(request_body=mail)\n",
    "    return{\"status\": \"success\"}\n"
   ]
  },
  {
   "cell_type": "markdown",
   "id": "0404c145",
   "metadata": {},
   "source": [
    "### This has automatically been converted into a tool, with the JSON boilerplate created"
   ]
  },
  {
   "cell_type": "code",
   "execution_count": 33,
   "id": "e8fd5593",
   "metadata": {},
   "outputs": [
    {
     "data": {
      "text/plain": [
       "FunctionTool(name='send_email', description='Send out an email with the given body to all sales prospects.', params_json_schema={'properties': {'body': {'title': 'Body', 'type': 'string'}}, 'required': ['body'], 'title': 'send_email_args', 'type': 'object', 'additionalProperties': False}, on_invoke_tool=<function function_tool.<locals>._create_function_tool.<locals>._on_invoke_tool at 0x0000019558ED3D80>, strict_json_schema=True, is_enabled=True)"
      ]
     },
     "execution_count": 33,
     "metadata": {},
     "output_type": "execute_result"
    }
   ],
   "source": [
    "send_email"
   ]
  },
  {
   "cell_type": "markdown",
   "id": "613ae482",
   "metadata": {},
   "source": [
    "### And you can also convert an Agent into a tool"
   ]
  },
  {
   "cell_type": "code",
   "execution_count": 34,
   "id": "627447db",
   "metadata": {},
   "outputs": [
    {
     "data": {
      "text/plain": [
       "FunctionTool(name='sales_agent1', description='Write a cold sales email', params_json_schema={'properties': {'input': {'title': 'Input', 'type': 'string'}}, 'required': ['input'], 'title': 'sales_agent1_args', 'type': 'object', 'additionalProperties': False}, on_invoke_tool=<function function_tool.<locals>._create_function_tool.<locals>._on_invoke_tool at 0x000001955A4498A0>, strict_json_schema=True, is_enabled=True)"
      ]
     },
     "execution_count": 34,
     "metadata": {},
     "output_type": "execute_result"
    }
   ],
   "source": [
    "# Convert agent into a tool\n",
    "tool1 = sales_agent1.as_tool(tool_name=\"sales_agent1\", tool_description=\"Write a cold sales email\")\n",
    "tool1"
   ]
  },
  {
   "cell_type": "markdown",
   "id": "cb73e389",
   "metadata": {},
   "source": [
    "### So now we can gather all he tools together:\n",
    "A tool fo reach of our 3 email-writing agents\n",
    "\n",
    "And a tool for our function to send emails"
   ]
  },
  {
   "cell_type": "code",
   "execution_count": 35,
   "id": "0474d627",
   "metadata": {},
   "outputs": [
    {
     "data": {
      "text/plain": [
       "[FunctionTool(name='sales_agent1', description='Write a cold sales email', params_json_schema={'properties': {'input': {'title': 'Input', 'type': 'string'}}, 'required': ['input'], 'title': 'sales_agent1_args', 'type': 'object', 'additionalProperties': False}, on_invoke_tool=<function function_tool.<locals>._create_function_tool.<locals>._on_invoke_tool at 0x000001955A448360>, strict_json_schema=True, is_enabled=True),\n",
       " FunctionTool(name='sales_agent2', description='Write a cold sales email', params_json_schema={'properties': {'input': {'title': 'Input', 'type': 'string'}}, 'required': ['input'], 'title': 'sales_agent2_args', 'type': 'object', 'additionalProperties': False}, on_invoke_tool=<function function_tool.<locals>._create_function_tool.<locals>._on_invoke_tool at 0x000001955A22D6C0>, strict_json_schema=True, is_enabled=True),\n",
       " FunctionTool(name='sales_agent3', description='Write a cold sales email', params_json_schema={'properties': {'input': {'title': 'Input', 'type': 'string'}}, 'required': ['input'], 'title': 'sales_agent3_args', 'type': 'object', 'additionalProperties': False}, on_invoke_tool=<function function_tool.<locals>._create_function_tool.<locals>._on_invoke_tool at 0x00000195588B1300>, strict_json_schema=True, is_enabled=True),\n",
       " FunctionTool(name='send_email', description='Send out an email with the given body to all sales prospects.', params_json_schema={'properties': {'body': {'title': 'Body', 'type': 'string'}}, 'required': ['body'], 'title': 'send_email_args', 'type': 'object', 'additionalProperties': False}, on_invoke_tool=<function function_tool.<locals>._create_function_tool.<locals>._on_invoke_tool at 0x0000019558ED3D80>, strict_json_schema=True, is_enabled=True)]"
      ]
     },
     "execution_count": 35,
     "metadata": {},
     "output_type": "execute_result"
    }
   ],
   "source": [
    "# Create description\n",
    "description = \"Write a cold sales email\"\n",
    "\n",
    "tool1 = sales_agent1.as_tool(tool_name=\"sales_agent1\", tool_description=description)\n",
    "tool2 = sales_agent2.as_tool(tool_name=\"sales_agent2\", tool_description=description)\n",
    "tool3 = sales_agent3.as_tool(tool_name=\"sales_agent3\", tool_description=description)\n",
    "\n",
    "tools = [tool1, tool2, tool3, send_email]\n",
    "\n",
    "tools"
   ]
  },
  {
   "cell_type": "markdown",
   "id": "74be6499",
   "metadata": {},
   "source": [
    "## Now it's time for our Sales Manager - our planning agent!"
   ]
  },
  {
   "cell_type": "code",
   "execution_count": 40,
   "id": "07519547",
   "metadata": {},
   "outputs": [
    {
     "name": "stdout",
     "output_type": "stream",
     "text": [
      "RunResult:\n",
      "- Last agent: Agent(name=\"Sales Manager\", ...)\n",
      "- Final output (str):\n",
      "    It seems there have been repeated issues trying to send the email. Unfortunately, I'm unable to complete that action at the moment. \n",
      "    \n",
      "    If you have an email system, you can use the last generated email content to send it directly from your account. Would you like any additional assistance or modifications to the email?\n",
      "- 19 new item(s)\n",
      "- 8 raw response(s)\n",
      "- 0 input guardrail result(s)\n",
      "- 0 output guardrail result(s)\n",
      "(See `RunResult` for more details)\n"
     ]
    }
   ],
   "source": [
    "# Create instructions for agent\n",
    "instructions = \"You are a sales manager working for ComplAI. You use the tools given to you to generate cold sales emails. You never generate sales emails yourself; you always use the tools. You try all 3 sales_agent tools once before choosing the best one. You pick the single best email and use the send_email tool to send the best email (and only the best email) to the user.\"\n",
    "\n",
    "# Create the sales agent with tools\n",
    "sales_manager = Agent(\n",
    "    name=\"Sales Manager\",\n",
    "    instructions=instructions,\n",
    "    tools=tools,\n",
    "    model=\"gpt-4o-mini\"\n",
    ")\n",
    "# Create a messge for the agent to execute\n",
    "message = \"Send a cold sales email address to 'Dear CEO'\"\n",
    "\n",
    "# Define a trace for the agent\n",
    "with trace(\"Sales_manager trace\"):\n",
    "    result = await Runner.run(sales_manager, message)\n",
    "    print(result)"
   ]
  },
  {
   "cell_type": "markdown",
   "id": "7776030c",
   "metadata": {},
   "source": [
    "### Remember to check the trace\n",
    "\n",
    "https://platform.openai.com/traces\n",
    "\n",
    "And then check your email!"
   ]
  },
  {
   "cell_type": "markdown",
   "id": "5593ad40",
   "metadata": {},
   "source": [
    "### Handoffs represent a way an agent can delegate to an agent, passing control to it\n",
    "Handoffs and Agents-as-tools are similar:\n",
    "- In both cases, an Agent can collaborate with another Agent\n",
    "- With tools, control passes back\n",
    "- With handoffs, control passes acrosss"
   ]
  },
  {
   "cell_type": "code",
   "execution_count": 41,
   "id": "937823a0",
   "metadata": {},
   "outputs": [],
   "source": [
    "# Subject instructions\n",
    "subject_instructions = \"You can write a subject for a cold sales email. You are given a message and you need to write a subject for an email that is likely to get a response.\"\n",
    "\n",
    "# HTML instructions\n",
    "html_instructions = \"You can convert a text email body to an HTML email body. You are given a text email body which might have some markdown and you need to convert it to an HTML email body with simple, clear, compelling layout and design.\"\n",
    "\n",
    "# Create subject_writer agent\n",
    "subject_writer = Agent(\n",
    "    name=\"Email subject writer\",\n",
    "    instructions=subject_instructions,\n",
    "    model=\"gpt-4o-mini\"\n",
    ")\n",
    "# Use the subject_writer agent to create a tool\n",
    "subject_tool = subject_writer.as_tool(tool_name=\"subject_writer\", tool_description=\"Write a subject for a cold sales email\")\n",
    "\n",
    "# Create a html_converter agent\n",
    "html_converter = Agent(\n",
    "    name=\"HTML email body converter\",\n",
    "    instructions=html_instructions,\n",
    "    model=\"gpt-4o-mini\"\n",
    ")\n",
    "# Use the html_converter agent to create a tool\n",
    "html_tool = html_converter.as_tool(tool_name=\"html_converter\", tool_description=\"Convert a text email body to an HTML email body\")"
   ]
  },
  {
   "cell_type": "code",
   "execution_count": 42,
   "id": "61544ed2",
   "metadata": {},
   "outputs": [],
   "source": [
    "# Define function tool to send email\n",
    "@function_tool\n",
    "def send_html_email(subject: str, html_body: str) -> Dict[str, str]:\n",
    "    \"\"\" Send out an email with th egiven subject and HTML body to all sales prospects \"\"\"\n",
    "    sg = sendgrid.SendGridAPIClient(api_key=os.environ.get('SENDGRID_API_KEY'))\n",
    "    from_email  = Email(\"twostrokes210business@gmail.com\")\n",
    "    to_email = To(\"twostrokes210business@gmail.com\")\n",
    "    content = Content(\"text/html\", html_body)\n",
    "    mail = Mail(from_email, to_email, subject, content).get()\n",
    "    sg.client.mail.send.post(request_body=mail)\n",
    "\n",
    "    return{\"status\": \"success\"}\n"
   ]
  },
  {
   "cell_type": "code",
   "execution_count": 43,
   "id": "0e9251cb",
   "metadata": {},
   "outputs": [],
   "source": [
    "# Define tools list\n",
    "tools = [subject_tool, html_tool, send_html_email]"
   ]
  },
  {
   "cell_type": "code",
   "execution_count": 44,
   "id": "77c7e803",
   "metadata": {},
   "outputs": [
    {
     "data": {
      "text/plain": [
       "[FunctionTool(name='subject_writer', description='Write a subject for a cold sales email', params_json_schema={'properties': {'input': {'title': 'Input', 'type': 'string'}}, 'required': ['input'], 'title': 'subject_writer_args', 'type': 'object', 'additionalProperties': False}, on_invoke_tool=<function function_tool.<locals>._create_function_tool.<locals>._on_invoke_tool at 0x000001955A448540>, strict_json_schema=True, is_enabled=True),\n",
       " FunctionTool(name='html_converter', description='Convert a text email body to an HTML email body', params_json_schema={'properties': {'input': {'title': 'Input', 'type': 'string'}}, 'required': ['input'], 'title': 'html_converter_args', 'type': 'object', 'additionalProperties': False}, on_invoke_tool=<function function_tool.<locals>._create_function_tool.<locals>._on_invoke_tool at 0x000001955A44AAC0>, strict_json_schema=True, is_enabled=True),\n",
       " FunctionTool(name='send_html_email', description='Send out an email with th egiven subject and HTML body to all sales prospects', params_json_schema={'properties': {'subject': {'title': 'Subject', 'type': 'string'}, 'html_body': {'title': 'Html Body', 'type': 'string'}}, 'required': ['subject', 'html_body'], 'title': 'send_html_email_args', 'type': 'object', 'additionalProperties': False}, on_invoke_tool=<function function_tool.<locals>._create_function_tool.<locals>._on_invoke_tool at 0x000001955758FE20>, strict_json_schema=True, is_enabled=True)]"
      ]
     },
     "execution_count": 44,
     "metadata": {},
     "output_type": "execute_result"
    }
   ],
   "source": [
    "tools"
   ]
  }
 ],
 "metadata": {
  "kernelspec": {
   "display_name": "agents",
   "language": "python",
   "name": "python3"
  },
  "language_info": {
   "codemirror_mode": {
    "name": "ipython",
    "version": 3
   },
   "file_extension": ".py",
   "mimetype": "text/x-python",
   "name": "python",
   "nbconvert_exporter": "python",
   "pygments_lexer": "ipython3",
   "version": "3.12.11"
  }
 },
 "nbformat": 4,
 "nbformat_minor": 5
}
